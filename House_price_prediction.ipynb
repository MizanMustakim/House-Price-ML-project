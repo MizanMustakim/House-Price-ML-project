{
 "cells": [
  {
   "cell_type": "markdown",
   "metadata": {},
   "source": [
    "# Housing Prices Competition for Kaggle Learn Users"
   ]
  },
  {
   "cell_type": "markdown",
   "metadata": {},
   "source": [
    "Ask a home buyer to describe their dream house, and they probably won't begin with the height of the basement ceiling or the proximity to an east-west railroad. But this playground competition's dataset proves that much more influences price negotiations than the number of bedrooms or a white-picket fence.\n",
    "\n",
    "With 79 explanatory variables describing (almost) every aspect of residential homes in Ames, Iowa, this competition challenges you to predict the final price of each home."
   ]
  },
  {
   "cell_type": "markdown",
   "metadata": {},
   "source": [
    "The Ames Housing dataset was compiled by Dean De Cock for use in data science education. It's an incredible alternative for data scientists looking for a modernized and expanded version of the often cited Boston Housing dataset. "
   ]
  },
  {
   "cell_type": "markdown",
   "metadata": {},
   "source": [
    "### Import all necessary libraries"
   ]
  },
  {
   "cell_type": "code",
   "execution_count": null,
   "metadata": {},
   "outputs": [],
   "source": [
    "import pandas as pd\n",
    "import matplotlib.pyplot as plt\n",
    "import tensorflow as tf\n",
    "from sklearn.preprocessing import LabelEncoder, OrdinalEncoder, OneHotEncoder\n",
    "import numpy as np"
   ]
  },
  {
   "cell_type": "markdown",
   "metadata": {},
   "source": [
    "# Data Monitoring and Pre-processing"
   ]
  },
  {
   "cell_type": "markdown",
   "metadata": {},
   "source": [
    "### Loading the Data"
   ]
  },
  {
   "cell_type": "code",
   "execution_count": null,
   "metadata": {},
   "outputs": [],
   "source": [
    "df_train = pd.read_csv(r\"home-data-for-ml-course/train.csv\")\n",
    "df_test = pd.read_csv(r\"home-data-for-ml-course/test.csv\")"
   ]
  },
  {
   "cell_type": "code",
   "execution_count": null,
   "metadata": {},
   "outputs": [],
   "source": [
    "# # df_train = df_train.replace(\"NaN\", \" \", regex=True)\n",
    "# df_train = df_train.fillna((0))\n",
    "# # df_test = df_test.replace(\"NaN\", \" \", regex=True)\n",
    "# df_test = df_test.fillna(float(0))"
   ]
  },
  {
   "cell_type": "markdown",
   "metadata": {},
   "source": [
    "### Splitting the Data into input and output"
   ]
  },
  {
   "cell_type": "code",
   "execution_count": null,
   "metadata": {},
   "outputs": [],
   "source": [
    "X_train = df_train.drop([\"Id\", \"SalePrice\"], axis=1)\n",
    "y_train = df_train.SalePrice\n",
    "\n",
    "X_test = df_test.drop([\"Id\"], axis=1) # test data\n",
    "\n",
    "print(\"Train: \", X_train.shape)\n",
    "print(\"Test: \", X_test.shape)"
   ]
  },
  {
   "cell_type": "markdown",
   "metadata": {},
   "source": [
    "### Identifyng object items"
   ]
  },
  {
   "cell_type": "code",
   "execution_count": null,
   "metadata": {},
   "outputs": [],
   "source": [
    "train_object_list = []\n",
    "test_object_list = []\n",
    "for index, value in enumerate(X_train.dtypes):\n",
    "    if value == \"O\":\n",
    "        train_object_list.append(X_train.dtypes.index[index])\n",
    "\n",
    "for index, value in enumerate(X_test.dtypes):\n",
    "    if value == \"O\":\n",
    "        test_object_list.append(X_test.dtypes.index[index])"
   ]
  },
  {
   "cell_type": "markdown",
   "metadata": {},
   "source": [
    "### Object item Dataframe"
   ]
  },
  {
   "cell_type": "code",
   "execution_count": null,
   "metadata": {},
   "outputs": [],
   "source": [
    "train_obj_df = pd.DataFrame(data= X_train[train_object_list])\n",
    "test_obj_df = pd.DataFrame(data= X_test[test_object_list])"
   ]
  },
  {
   "cell_type": "markdown",
   "metadata": {},
   "source": [
    "### converting NaN values to string 0 at object DataFrame"
   ]
  },
  {
   "cell_type": "code",
   "execution_count": null,
   "metadata": {},
   "outputs": [],
   "source": [
    "train_obj_df = train_obj_df.fillna(str(0))\n",
    "test_obj_df = test_obj_df.fillna(str(0))"
   ]
  },
  {
   "cell_type": "markdown",
   "metadata": {},
   "source": [
    "### Identifyng the mixed type items from object items"
   ]
  },
  {
   "cell_type": "code",
   "execution_count": null,
   "metadata": {},
   "outputs": [],
   "source": [
    "train_mixed_val = []\n",
    "test_mixed_val = []\n",
    "for i in train_object_list:\n",
    "    for j in range(len(X_train[i])):\n",
    "        if type(X_train[i][j]) == float:\n",
    "            train_mixed_val.append(i)\n",
    "            break\n",
    "            \n",
    "for i in test_object_list:\n",
    "    for j in range(len(X_test[i])):\n",
    "        if type(X_test[i][j]) == float:\n",
    "            test_mixed_val.append(i)\n",
    "            break"
   ]
  },
  {
   "cell_type": "code",
   "execution_count": null,
   "metadata": {},
   "outputs": [],
   "source": [
    "train_obj_df.shape"
   ]
  },
  {
   "cell_type": "code",
   "execution_count": null,
   "metadata": {},
   "outputs": [],
   "source": [
    "len(train_mixed_val)"
   ]
  },
  {
   "cell_type": "markdown",
   "metadata": {},
   "source": [
    "### Converting float to str at object DataFrame"
   ]
  },
  {
   "cell_type": "code",
   "execution_count": null,
   "metadata": {},
   "outputs": [],
   "source": [
    "for i in train_mixed_val:\n",
    "    for j in range(len(train_obj_df[i])):\n",
    "        if type(train_obj_df[i][j]) == float:\n",
    "            train_obj_df[i][j] = str(train_obj_df[i][j])\n",
    "        elif type(train_obj_df[i][j]) == int:\n",
    "            train_obj_df[i][j] = str(train_obj_df[i][j])\n",
    "        else:\n",
    "            pass\n",
    "\n",
    "for i in test_mixed_val:\n",
    "    for j in range(len(test_obj_df[i])):\n",
    "        if type(test_obj_df[i][j]) == float:\n",
    "            test_obj_df[i][j] = str(test_obj_df[i][j])\n",
    "        elif type(test_obj_df[i][j]) == int:\n",
    "            test_obj_df[i][j] = str(test_obj_df[i][j])\n",
    "        else:\n",
    "            pass"
   ]
  },
  {
   "cell_type": "markdown",
   "metadata": {},
   "source": [
    "### Dropping the object items"
   ]
  },
  {
   "cell_type": "code",
   "execution_count": null,
   "metadata": {},
   "outputs": [],
   "source": [
    "X_train = X_train.drop(train_object_list, axis=1)\n",
    "X_test = X_test.drop(test_object_list, axis=1)"
   ]
  },
  {
   "cell_type": "code",
   "execution_count": null,
   "metadata": {
    "scrolled": true
   },
   "outputs": [],
   "source": [
    "print(\"Train: \", X_train.shape)\n",
    "print(\"Test: \", X_test.shape)"
   ]
  },
  {
   "cell_type": "markdown",
   "metadata": {},
   "source": [
    "### Converting NaN values of X DataFrame"
   ]
  },
  {
   "cell_type": "code",
   "execution_count": null,
   "metadata": {},
   "outputs": [],
   "source": [
    "X_train = X_train.fillna(float(0))\n",
    "X_test = X_test.fillna(float(0))"
   ]
  },
  {
   "cell_type": "markdown",
   "metadata": {},
   "source": [
    "### Data Encoding"
   ]
  },
  {
   "cell_type": "code",
   "execution_count": null,
   "metadata": {},
   "outputs": [],
   "source": [
    "class Encoding:\n",
    "    def ordinal_encoder(self, train, test):\n",
    "        oe = OrdinalEncoder()\n",
    "        X_train_enc = oe.fit_transform(train)\n",
    "        X_test_enc = oe.fit_transform(test)\n",
    "        \n",
    "        return X_train_enc, X_test_enc\n",
    "    \n",
    "    def one_hot_encoder(self, train, test):\n",
    "        ohe = OneHotEncoder()\n",
    "        \n",
    "        X_train_enc = ohe.fit_transform(train)\n",
    "        X_test_enc = ohe.fit_transform(test)\n",
    "        \n",
    "        return X_train_enc, X_test_enc\n",
    "    \n",
    "    def label_encoder(self, train):\n",
    "        le = LabelEncoder()\n",
    "        y_train_enc = le.fit_transform(train)\n",
    "#         X_test_enc = le.fit_transform(test)\n",
    "        \n",
    "        return y_train_enc"
   ]
  },
  {
   "cell_type": "code",
   "execution_count": null,
   "metadata": {},
   "outputs": [],
   "source": [
    "encode = Encoding()"
   ]
  },
  {
   "cell_type": "markdown",
   "metadata": {},
   "source": [
    "### Encoding the remained X dataFrame"
   ]
  },
  {
   "cell_type": "code",
   "execution_count": null,
   "metadata": {},
   "outputs": [],
   "source": [
    "X_train_enc, X_test_enc = encode.ordinal_encoder(X_train, X_test)"
   ]
  },
  {
   "cell_type": "markdown",
   "metadata": {},
   "source": [
    "### Encoding the object DataFrame"
   ]
  },
  {
   "cell_type": "code",
   "execution_count": null,
   "metadata": {},
   "outputs": [],
   "source": [
    "tr_ob_df, te_ob_df = encode.ordinal_encoder(train_obj_df, test_obj_df)"
   ]
  },
  {
   "cell_type": "markdown",
   "metadata": {},
   "source": [
    "### Get back to the DataFrame again after encoding"
   ]
  },
  {
   "cell_type": "code",
   "execution_count": null,
   "metadata": {},
   "outputs": [],
   "source": [
    "train_obj_df = pd.DataFrame(data= tr_ob_df, columns= train_obj_df.columns)\n",
    "test_obj_df = pd.DataFrame(data= te_ob_df, columns= test_obj_df.columns)"
   ]
  },
  {
   "cell_type": "code",
   "execution_count": null,
   "metadata": {},
   "outputs": [],
   "source": [
    "X_train = pd.DataFrame(data= X_train_enc, columns= X_train.columns)\n",
    "X_test = pd.DataFrame(data= X_test_enc, columns= X_test.columns)"
   ]
  },
  {
   "cell_type": "markdown",
   "metadata": {},
   "source": [
    "### Concate these two DataFrame"
   ]
  },
  {
   "cell_type": "code",
   "execution_count": null,
   "metadata": {},
   "outputs": [],
   "source": [
    "final_train = pd.concat([X_train, train_obj_df], axis=1)\n",
    "final_test = pd.concat([X_test, test_obj_df], axis=1)"
   ]
  },
  {
   "cell_type": "code",
   "execution_count": null,
   "metadata": {
    "scrolled": true
   },
   "outputs": [],
   "source": [
    "final_train.shape, final_test.shape"
   ]
  },
  {
   "cell_type": "markdown",
   "metadata": {},
   "source": [
    "# Train The Nueral Network Model"
   ]
  },
  {
   "cell_type": "markdown",
   "metadata": {},
   "source": [
    "### Model Specifyng"
   ]
  },
  {
   "cell_type": "code",
   "execution_count": null,
   "metadata": {
    "scrolled": true
   },
   "outputs": [],
   "source": [
    "class myCallback(tf.keras.callbacks.Callback):\n",
    "    def epoch_end(self, epoch, logs={}):\n",
    "        if (logs.get(\"loss\") < 5.000):\n",
    "            print(\"Reached 99.9% accuracy so cancelling training!\")\n",
    "            self.model.stop_running = True\n",
    "\n",
    "callback = myCallback()\n",
    "\n",
    "\n",
    "model = tf.keras.models.Sequential([tf.keras.layers.Dense(units=81, activation=\"relu\", input_shape=[final_train.shape[1]]),\n",
    "                                    tf.keras.layers.Dense(units=64, activation=\"relu\"),\n",
    "#                                     tf.keras.layers.Dense(units=32, activation=\"relu\"),\n",
    "#                                     tf.keras.layers.Dense(units=16, activation=\"relu\"),\n",
    "#                                     tf.keras.layers.Dense(units=78, activation=\"relu\"),\n",
    "                                    tf.keras.layers.Dense(units=1)])\n",
    "    \n",
    "model.compile(loss=\"mae\",optimizer='adam', metrics=[\"accuracy\"])\n",
    "history = model.fit(final_train, \n",
    "                    y_train,\n",
    "                    epochs = 500,\n",
    "                    batch_size= 1,\n",
    "                    validation_split = 0.2,\n",
    "                    callbacks = [callback])"
   ]
  },
  {
   "cell_type": "markdown",
   "metadata": {},
   "source": [
    "### Make Prediction on test data"
   ]
  },
  {
   "cell_type": "code",
   "execution_count": null,
   "metadata": {},
   "outputs": [],
   "source": [
    "y_prediction = model.predict(final_test).flatten()\n",
    "\n",
    "data = {\"Id\": df_test.Id,\n",
    "        \"SalePrice\": y_prediction}\n",
    "\n",
    "df_final = pd.DataFrame(data)\n",
    "df_final.to_csv(\"final_sub.csv\", index=False)\n",
    "\n",
    "\n",
    "df_final.head()"
   ]
  }
 ],
 "metadata": {
  "kernelspec": {
   "display_name": "Python 3",
   "language": "python",
   "name": "python3"
  },
  "language_info": {
   "codemirror_mode": {
    "name": "ipython",
    "version": 3
   },
   "file_extension": ".py",
   "mimetype": "text/x-python",
   "name": "python",
   "nbconvert_exporter": "python",
   "pygments_lexer": "ipython3",
   "version": "3.8.3"
  }
 },
 "nbformat": 4,
 "nbformat_minor": 4
}
